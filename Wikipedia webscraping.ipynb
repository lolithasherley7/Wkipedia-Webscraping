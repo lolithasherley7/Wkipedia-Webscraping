{
 "cells": [
  {
   "cell_type": "code",
   "execution_count": 1,
   "metadata": {},
   "outputs": [],
   "source": [
    "#importing required Libraries\n",
    "import requests\n",
    "from bs4 import BeautifulSoup\n",
    "import csv\n",
    "\n"
   ]
  },
  {
   "cell_type": "code",
   "execution_count": 49,
   "metadata": {},
   "outputs": [],
   "source": [
    "#Url to be parsed\n",
    "\n",
    "website = requests.get(\"https://en.wikipedia.org/wiki/List_of_countries_and_dependencies_by_population\")\n",
    "soup = BeautifulSoup(website.text, 'html.parser')\n",
    "first_table= soup.select_one(\".wikitable\")\n",
    "table_rows= first_table.select('tr')[1:-1] #-1 to exclude the loast row of world\n",
    "\n",
    "#Slicing the rows from 1: coz the header rows is part of 'tr'.so it slices the table headings\n",
    "csv_data=[['Rank','Country','Population', 'Percentage','Date','Source']]\n",
    "\n",
    "for row in table_rows:\n",
    "    Rank=row.find('th').text.strip()\n",
    "    #print(rank)#print(rank) gives 3 blank space, we can get rid of it by using\n",
    "    # .strip() in rank equation\n",
    "    table_data = row.select('td') #Let's get the country name which is inside a \"td\" tag\n",
    "    Country = table_data[0].find('a').text # Scraping first row of the table\n",
    "    Population = table_data[1].text\n",
    "    Percentage = table_data[2].text\n",
    "    Date = table_data[3].text\n",
    "    Source = table_data[4].text.strip().split('[')[0]\n",
    "    csv_data.append([Rank, Country, Population, Percentage, Date, Source])\n",
    "\n",
    "with open('Countries_Population.csv','w') as file:\n",
    "    writer = csv.writer(file)\n",
    "    writer.writerows(csv_data)"
   ]
  },
  {
   "cell_type": "code",
   "execution_count": null,
   "metadata": {},
   "outputs": [],
   "source": []
  }
 ],
 "metadata": {
  "kernelspec": {
   "display_name": "Python 3",
   "language": "python",
   "name": "python3"
  },
  "language_info": {
   "codemirror_mode": {
    "name": "ipython",
    "version": 3
   },
   "file_extension": ".py",
   "mimetype": "text/x-python",
   "name": "python",
   "nbconvert_exporter": "python",
   "pygments_lexer": "ipython3",
   "version": "3.7.6"
  }
 },
 "nbformat": 4,
 "nbformat_minor": 4
}
